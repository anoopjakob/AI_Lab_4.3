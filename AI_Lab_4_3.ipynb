{
  "nbformat": 4,
  "nbformat_minor": 0,
  "metadata": {
    "colab": {
      "name": "AI_Lab_4.3.ipynb",
      "provenance": [],
      "authorship_tag": "ABX9TyNyrnzYgYoFX4PsvdmvP+S+",
      "include_colab_link": true
    },
    "kernelspec": {
      "name": "python3",
      "display_name": "Python 3"
    }
  },
  "cells": [
    {
      "cell_type": "markdown",
      "metadata": {
        "id": "view-in-github",
        "colab_type": "text"
      },
      "source": [
        "<a href=\"https://colab.research.google.com/github/anoopjakob/AI_Lab_4.3/blob/main/AI_Lab_4_3.ipynb\" target=\"_parent\"><img src=\"https://colab.research.google.com/assets/colab-badge.svg\" alt=\"Open In Colab\"/></a>"
      ]
    },
    {
      "cell_type": "code",
      "metadata": {
        "id": "eIGwvl1aFZJt"
      },
      "source": [
        "import numpy as np\r\n"
      ],
      "execution_count": 1,
      "outputs": []
    },
    {
      "cell_type": "markdown",
      "metadata": {
        "id": "Y25n1f0aFk-f"
      },
      "source": [
        "**Question: Implement 4-queens problem using Breadth First Search and Depth First Search.**"
      ]
    },
    {
      "cell_type": "code",
      "metadata": {
        "id": "7mzzeNdw98Uz"
      },
      "source": [
        "\r\n",
        "\r\n",
        "# [ '_' , '_' , '_', '_'] \r\n",
        "# '_' == means space not filled.. \r\n",
        "\r\n",
        "# here the index is the row (which row right now working on) \r\n",
        "# and content is the column value.. of that particluar row\r\n",
        "# hence [1,0, 2, 3] means:\r\n",
        "#   _ Q _ _\r\n",
        "#   Q _ _ _\r\n",
        "#   _ _ Q _\r\n",
        "#   _ _ _ Q\r\n",
        "# '_' :== this is used for representation purpose..\r\n",
        " \r\n",
        "# here board is a list of 4 intgers\r\n",
        "# row is the current row which we are working on (int)\r\n",
        "# column is the column at which queen is placed.. (int)\r\n",
        "\r\n",
        "# function to check if its safe to place the queen .. \r\n",
        "# so queen can move vertical , horizontal and diagonal . hence we checking for if all 3 are ok\r\n",
        "\r\n",
        "\r\n",
        "def safePositionCheck(Board, row , column):\r\n",
        "  if row==0:\r\n",
        "    return True\r\n",
        "\r\n",
        "  # checking if if we have queen in the row which we are looking at\r\n",
        "  # which returns false and means 'its not safe' \r\n",
        "  for i in range(row):\r\n",
        "    if Board[i]==column:\r\n",
        "      return False\r\n",
        "  \r\n",
        "  # finding any two queens are on the same diagonal..\r\n",
        "  i=row\r\n",
        "  j=column\r\n",
        "  while i>=0 and j>=0:\r\n",
        "    if Board[i]==j:\r\n",
        "      return False\r\n",
        "    i=i-1\r\n",
        "    j=j-1\r\n",
        "  \r\n",
        "  # finding any two queens are on the other same diagonal.. \r\n",
        "  i=row\r\n",
        "  j=column\r\n",
        "  while i>=0 and j<4:\r\n",
        "    if Board[i]==j:\r\n",
        "      return False\r\n",
        "    i=i-1\r\n",
        "    j=j+1\r\n",
        "\r\n",
        "  # if all the satements are false means its safer to put a queen in the particular place..\r\n",
        "  # so returns true..\r\n",
        "  return True\r\n",
        "\r\n",
        "# [1, 3 ,0 , 2]\r\n",
        "\r\n",
        "def showResult(board):\r\n",
        "  # index is row number\r\n",
        "  # content is column number\r\n",
        "\r\n",
        "   # just to display the 4 queens in the final placement..\r\n",
        "  print('\\n solution : {}\\n'.format(board))\r\n",
        "  for i in range(len(board)):\r\n",
        "    \r\n",
        "    if(board[i]==0):\r\n",
        "      print('Q _ _ _ \\n')\r\n",
        "    if(board[i]==1):\r\n",
        "      print('_ Q _ _ \\n')\r\n",
        "    if(board[i]==2):\r\n",
        "      print('_ _ Q  _ \\n')\r\n",
        "    if(board[i]==3):\r\n",
        "      print('_ _ _ Q \\n')\r\n",
        "  \r\n",
        "\r\n",
        "# here stack is used along with recursion..\r\n",
        "\r\n",
        "# here it goes down all deep to find an answer\r\n",
        "def DFS(Board , n):\r\n",
        "  # print('check 1')\r\n",
        "  if n>=4:\r\n",
        "    # only when 4 columns are filled with correct values.. \r\n",
        "    # that is if 4 queens can be filled.. only print the result..\r\n",
        "    showResult(Board)\r\n",
        "    return\r\n",
        "  # print('check 2')\r\n",
        "  for i in range(4):\r\n",
        "    # print('check 3')\r\n",
        "    if safePositionCheck(Board, n, i):\r\n",
        "      Board[n] = i\r\n",
        "      print(Board)\r\n",
        "\r\n",
        "      DFS(Board, n+1) # recursion\r\n",
        "\r\n",
        "      Board[n] = '_'\r\n",
        "\r\n",
        "# here queue is use along with recursion\r\n",
        "# here all the nodes of a particluar level is checked first..\r\n",
        "def BFS(visited,n):  \r\n",
        "  l=len(visited)\r\n",
        "  print('level {} \\n'.format(n))\r\n",
        "  print('possible formations : ', visited, '\\n')\r\n",
        "  if n>=4:\r\n",
        "    for i in range(2):\r\n",
        "      showResult(visited[i])\r\n",
        "    \r\n",
        "    return\r\n",
        "  vis=[]\r\n",
        "  for i in range(l):\r\n",
        "    # here visited is a list of list. \r\n",
        "    b = visited.pop(0) # popping out the first list \r\n",
        "    for j in range(4):\r\n",
        "      if safePositionCheck(b,n,j):\r\n",
        "        b[n]=j\r\n",
        "        # print(b)\r\n",
        "        vis.append(b.copy()) # new branch is appended with current list of lists\r\n",
        "        # print('current branches: ', vis)\r\n",
        "        b[n]='_'\r\n",
        "  BFS(vis,n+1) # recursion\r\n",
        "  return  \r\n",
        "\r\n",
        "\r\n",
        "\r\n",
        "\r\n"
      ],
      "execution_count": 95,
      "outputs": []
    },
    {
      "cell_type": "code",
      "metadata": {
        "colab": {
          "base_uri": "https://localhost:8080/"
        },
        "id": "C2lMjo6BDYjN",
        "outputId": "09c655e7-7a74-408f-d4ef-67746714feb8"
      },
      "source": [
        "Board =['_', '_', '_', '_']\r\n",
        "\r\n",
        "print('4 Queens using Depth First Search (DFS) \\n ')\r\n",
        "DFS(Board,0)\r\n"
      ],
      "execution_count": 80,
      "outputs": [
        {
          "output_type": "stream",
          "text": [
            "4 Queens using Depth First Search (DFS) \n",
            " \n",
            "[0, '_', '_', '_']\n",
            "[0, 2, '_', '_']\n",
            "[0, 3, '_', '_']\n",
            "[0, 3, 1, '_']\n",
            "[1, '_', '_', '_']\n",
            "[1, 3, '_', '_']\n",
            "[1, 3, 0, '_']\n",
            "[1, 3, 0, 2]\n",
            "\n",
            " solution node [1, 3, 0, 2]\n",
            "\n",
            "_ Q _ _ \n",
            "\n",
            "_ _ _ Q \n",
            "\n",
            "Q _ _ _ \n",
            "\n",
            "_ _ Q  _ \n",
            "\n",
            "[2, '_', '_', '_']\n",
            "[2, 0, '_', '_']\n",
            "[2, 0, 3, '_']\n",
            "[2, 0, 3, 1]\n",
            "\n",
            " solution node [2, 0, 3, 1]\n",
            "\n",
            "_ _ Q  _ \n",
            "\n",
            "Q _ _ _ \n",
            "\n",
            "_ _ _ Q \n",
            "\n",
            "_ Q _ _ \n",
            "\n",
            "[3, '_', '_', '_']\n",
            "[3, 0, '_', '_']\n",
            "[3, 0, 2, '_']\n",
            "[3, 1, '_', '_']\n"
          ],
          "name": "stdout"
        }
      ]
    },
    {
      "cell_type": "code",
      "metadata": {
        "colab": {
          "base_uri": "https://localhost:8080/"
        },
        "id": "5raZBxlMEz0E",
        "outputId": "80ddd8dc-11d4-4a10-e0ff-67810a97156e"
      },
      "source": [
        "print(\" Breadth Fist Search(BFS) \\n\")\r\n",
        "\r\n",
        "board=['_','_','_','_']\r\n",
        "visited=[]\r\n",
        "visited.append(board)\r\n",
        "\r\n",
        "BFS(visited,0)"
      ],
      "execution_count": 98,
      "outputs": [
        {
          "output_type": "stream",
          "text": [
            " Breadth Fist Search(BFS) \n",
            "\n",
            "level 0 \n",
            "\n",
            "possible formations :  [['_', '_', '_', '_']] \n",
            "\n",
            "level 1 \n",
            "\n",
            "possible formations :  [[0, '_', '_', '_'], [1, '_', '_', '_'], [2, '_', '_', '_'], [3, '_', '_', '_']] \n",
            "\n",
            "level 2 \n",
            "\n",
            "possible formations :  [[0, 2, '_', '_'], [0, 3, '_', '_'], [1, 3, '_', '_'], [2, 0, '_', '_'], [3, 0, '_', '_'], [3, 1, '_', '_']] \n",
            "\n",
            "level 3 \n",
            "\n",
            "possible formations :  [[0, 3, 1, '_'], [1, 3, 0, '_'], [2, 0, 3, '_'], [3, 0, 2, '_']] \n",
            "\n",
            "level 4 \n",
            "\n",
            "possible formations :  [[1, 3, 0, 2], [2, 0, 3, 1]] \n",
            "\n",
            "\n",
            " solution : [1, 3, 0, 2]\n",
            "\n",
            "_ Q _ _ \n",
            "\n",
            "_ _ _ Q \n",
            "\n",
            "Q _ _ _ \n",
            "\n",
            "_ _ Q  _ \n",
            "\n",
            "\n",
            " solution : [2, 0, 3, 1]\n",
            "\n",
            "_ _ Q  _ \n",
            "\n",
            "Q _ _ _ \n",
            "\n",
            "_ _ _ Q \n",
            "\n",
            "_ Q _ _ \n",
            "\n"
          ],
          "name": "stdout"
        }
      ]
    }
  ]
}